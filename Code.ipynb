{
 "cells": [
  {
   "cell_type": "markdown",
   "metadata": {},
   "source": [
    "## Imports"
   ]
  },
  {
   "cell_type": "code",
   "execution_count": 1,
   "metadata": {},
   "outputs": [],
   "source": [
    "import numpy as np\n",
    "import pandas as pd\n",
    "from statsmodels.api import OLS\n",
    "from scipy import stats\n",
    "import nltk\n",
    "from nltk.corpus import stopwords\n",
    "from sklearn.feature_extraction.text import CountVectorizer\n",
    "from sklearn.linear_model import LinearRegression\n",
    "import nltk\n",
    "from textblob import TextBlob\n",
    "import seaborn as sns\n",
    "import matplotlib.pyplot as plt\n",
    "from statsmodels.stats.proportion import proportions_ztest\n",
    "import gensim\n",
    "import warnings\n",
    "warnings.filterwarnings('ignore')"
   ]
  },
  {
   "cell_type": "markdown",
   "metadata": {},
   "source": [
    "## Hotel Dataset"
   ]
  },
  {
   "cell_type": "code",
   "execution_count": 2,
   "metadata": {},
   "outputs": [],
   "source": [
    "df = pd.read_csv('ScrapedHotels.csv')"
   ]
  },
  {
   "cell_type": "code",
   "execution_count": 3,
   "metadata": {},
   "outputs": [
    {
     "data": {
      "text/plain": [
       "Title            object\n",
       "Rank             object\n",
       "Rating          float64\n",
       "Reviews          object\n",
       "Amenities        object\n",
       "RoomFeatures     object\n",
       "RoomTypes        object\n",
       "Class           float64\n",
       "Style            object\n",
       "Description      object\n",
       "Website           int64\n",
       "Offers            int64\n",
       "Covid             int64\n",
       "Location        float64\n",
       "Cleanliness     float64\n",
       "Value           float64\n",
       "Service         float64\n",
       "Walkscore       float64\n",
       "Restaurants     float64\n",
       "Attractions     float64\n",
       "ImageCount       object\n",
       "Price            object\n",
       "dtype: object"
      ]
     },
     "execution_count": 3,
     "metadata": {},
     "output_type": "execute_result"
    }
   ],
   "source": [
    "df.describe()\n",
    "df.dtypes"
   ]
  },
  {
   "cell_type": "code",
   "execution_count": 4,
   "metadata": {},
   "outputs": [],
   "source": [
    "df = df[df['Rating'].notnull()]"
   ]
  },
  {
   "cell_type": "markdown",
   "metadata": {},
   "source": [
    "## Data Processing"
   ]
  },
  {
   "cell_type": "code",
   "execution_count": 5,
   "metadata": {},
   "outputs": [],
   "source": [
    "df['Rank'] = df['Rank'].str[1:].str.replace(',','').astype(int)\n",
    "df['Reviews'] = df['Reviews'].str.replace(',','').astype(int)\n",
    "df['Description'] = df['Description'].astype(str)\n",
    "df['ImageCount'] = df['ImageCount'].str.replace(',','').astype(int)\n",
    "df['Class'].fillna('NA', inplace=True)\n",
    "df['Class'] = df['Class'].astype('category')\n",
    "df['Covid'] = df['Covid'].astype('category')\n",
    "df['Website'] = df['Website'].astype('category')\n",
    "df['Offers'] = df['Offers'].astype('category')\n",
    "df['Location'].fillna(df['Location'].mean(), inplace=True)\n",
    "df['Cleanliness'].fillna(df['Cleanliness'].mean(), inplace=True)\n",
    "df['Value'].fillna(df['Value'].mean(), inplace=True)\n",
    "df['Service'].fillna(df['Service'].mean(), inplace=True)\n",
    "df['RoomTypes'].fillna('NA', inplace=True)"
   ]
  },
  {
   "cell_type": "markdown",
   "metadata": {},
   "source": [
    "## Covid Safety T-tests"
   ]
  },
  {
   "cell_type": "code",
   "execution_count": 6,
   "metadata": {},
   "outputs": [
    {
     "name": "stdout",
     "output_type": "stream",
     "text": [
      "Two-sided t-test on average rank of hotels with and without covid safety measures\n",
      " Ttest_indResult(statistic=-40.1278287487386, pvalue=1.3049372263839034e-277)\n",
      "One-sided t-test on average rank of hotels with and without covid safety measures\n",
      " Ttest_indResult(statistic=-40.1278287487386, pvalue=1.0)\n"
     ]
    }
   ],
   "source": [
    "has_csafe = df.loc[df['Covid'] == 1,'Rank']\n",
    "no_csafe = df.loc[df['Covid'] == 0, 'Rank']\n",
    "print('Two-sided t-test on average rank of hotels with and without covid safety measures\\n', stats.ttest_ind(has_csafe, no_csafe, equal_var=False))\n",
    "print('One-sided t-test on average rank of hotels with and without covid safety measures\\n', stats.ttest_ind(has_csafe, no_csafe, equal_var=False, alternative='greater'))\n"
   ]
  },
  {
   "cell_type": "markdown",
   "metadata": {},
   "source": [
    "It is recommended for the new or existing hotels to have the COVID safety measures implemented and have it listed on their Tripadvisor page"
   ]
  },
  {
   "cell_type": "markdown",
   "metadata": {},
   "source": [
    "## Non-Smoking Room Z Test"
   ]
  },
  {
   "cell_type": "code",
   "execution_count": 7,
   "metadata": {},
   "outputs": [],
   "source": [
    "df['RoomTypes'] = df['RoomTypes'].str.replace(\"[\", \"\")\n",
    "df['RoomTypes'] = df['RoomTypes'].str.replace(\"]\", \"\")\n",
    "df['RoomTypes'] = df['RoomTypes'].str.replace(\"'\", \"\")\n",
    "\n",
    "df['NonSmokingRoom'] = pd.np.where(df['RoomTypes'].str.contains(\"Non-smoking\"), 1,0)\n",
    "nonsmokingroom = df['NonSmokingRoom'].value_counts().to_frame('Count')\n",
    "nonsmokingroom\n",
    "\n",
    "non_smoking_hotels_high_rated = df.loc[((df['NonSmokingRoom']==1) & (df['Rating']>=4)) , :]\n",
    "no_non_smoking_hotels_high_rated = df.loc[((df['NonSmokingRoom']==0) & (df['Rating']>=4)) , :]"
   ]
  },
  {
   "cell_type": "code",
   "execution_count": 8,
   "metadata": {},
   "outputs": [
    {
     "name": "stdout",
     "output_type": "stream",
     "text": [
      "z_stat: 5.515, p_value: 0.000\n",
      "Reject the null hypothesis - suggest the alternative hypothesis is true\n"
     ]
    }
   ],
   "source": [
    "significance = 0.025\n",
    "\n",
    "sample_success_a, sample_size_a = (len(non_smoking_hotels_high_rated), nonsmokingroom.loc[1, 'Count'])\n",
    "sample_success_b, sample_size_b = (len(no_non_smoking_hotels_high_rated),nonsmokingroom.loc[0, 'Count'])\n",
    "\n",
    "successes = np.array([sample_success_a, sample_success_b])\n",
    "samples = np.array([sample_size_a, sample_size_b])\n",
    "\n",
    "stat, p_value = proportions_ztest(count=successes, nobs=samples,  alternative='two-sided')\n",
    "\n",
    "print('z_stat: %0.3f, p_value: %0.3f' % (stat, p_value))\n",
    "\n",
    "if p_value > significance:\n",
    "    print (\"Fail to reject the null hypothesis\")\n",
    "else:\n",
    "    print (\"Reject the null hypothesis - suggest the alternative hypothesis is true\")"
   ]
  },
  {
   "cell_type": "code",
   "execution_count": 9,
   "metadata": {},
   "outputs": [
    {
     "name": "stdout",
     "output_type": "stream",
     "text": [
      "Fail to reject the null hypothesis\n"
     ]
    }
   ],
   "source": [
    "stat, p_value = proportions_ztest(count=successes, nobs=samples,  alternative='smaller')\n",
    "if p_value > 0.05:\n",
    "    print (\"Fail to reject the null hypothesis\")\n",
    "else:\n",
    "    print (\"Reject the null hypothesis - suggest the alternative hypothesis is true\")"
   ]
  },
  {
   "cell_type": "markdown",
   "metadata": {},
   "source": [
    "The test above is a z-test for proportions to test if having non-smoking rooms leads to more ratings of 4 and 5.\n",
    "It is recommended for the hotels to have or convert some of their rooms to Non-Smoking rooms"
   ]
  },
  {
   "cell_type": "markdown",
   "metadata": {},
   "source": [
    "## Description Length T-Test"
   ]
  },
  {
   "cell_type": "code",
   "execution_count": 10,
   "metadata": {},
   "outputs": [],
   "source": [
    "desc = df['Description'].to_list()\n",
    "tokenized_desc = [nltk.word_tokenize(i.lower()) for i in desc]"
   ]
  },
  {
   "cell_type": "code",
   "execution_count": 11,
   "metadata": {},
   "outputs": [],
   "source": [
    "df['DescLength'] = pd.Series([len(i) for i in tokenized_desc])\n",
    "df['DescLength'].fillna(0, inplace=True)"
   ]
  },
  {
   "cell_type": "code",
   "execution_count": 12,
   "metadata": {},
   "outputs": [
    {
     "name": "stdout",
     "output_type": "stream",
     "text": [
      "Two-sided t-test on average rank of hotels with and without more than 100 word description\n",
      " Ttest_indResult(statistic=-23.872020811730128, pvalue=4.077080926147091e-115)\n",
      "One-sided t-test on average rank of hotels with and without more than 100 word description\n",
      " Ttest_indResult(statistic=-23.872020811730128, pvalue=1.0)\n"
     ]
    }
   ],
   "source": [
    "no_desc = df.loc[df['DescLength'] <=100,'Rank']\n",
    "yes_desc = df.loc[df['DescLength'] >100, 'Rank']\n",
    "print('Two-sided t-test on average rank of hotels with and without more than 100 word description\\n', stats.ttest_ind(yes_desc, no_desc, equal_var=False))\n",
    "print('One-sided t-test on average rank of hotels with and without more than 100 word description\\n', stats.ttest_ind(yes_desc, no_desc, equal_var=False, alternative='greater'))\n"
   ]
  },
  {
   "cell_type": "markdown",
   "metadata": {},
   "source": [
    "It is advised to provide a more detailed description of hotel for the guests to make an informed decision on their stay"
   ]
  },
  {
   "cell_type": "markdown",
   "metadata": {},
   "source": [
    "## Restaurants T-test"
   ]
  },
  {
   "cell_type": "code",
   "execution_count": 13,
   "metadata": {},
   "outputs": [
    {
     "data": {
      "text/plain": [
       "<matplotlib.axes._subplots.AxesSubplot at 0x18631dccdf0>"
      ]
     },
     "execution_count": 13,
     "metadata": {},
     "output_type": "execute_result"
    },
    {
     "data": {
      "image/png": "[encoded data removed]",
      "text/plain": [
       "<Figure size 432x288 with 1 Axes>"
      ]
     },
     "metadata": {
      "needs_background": "light"
     },
     "output_type": "display_data"
    }
   ],
   "source": [
    "df['Restaurants'].plot.box()"
   ]
  },
  {
   "cell_type": "code",
   "execution_count": 14,
   "metadata": {},
   "outputs": [
    {
     "data": {
      "text/plain": [
       "0.50    40.0\n",
       "0.75    73.0\n",
       "Name: Restaurants, dtype: float64"
      ]
     },
     "execution_count": 14,
     "metadata": {},
     "output_type": "execute_result"
    }
   ],
   "source": [
    "df['Restaurants'].quantile([0.5, 0.75])"
   ]
  },
  {
   "cell_type": "code",
   "execution_count": 15,
   "metadata": {},
   "outputs": [
    {
     "name": "stdout",
     "output_type": "stream",
     "text": [
      "Two-sided t-test on average rank of hotels with near by restaurants more than 40\n",
      " Ttest_indResult(statistic=-6.871753967349365, pvalue=8.548849988173598e-12)\n"
     ]
    }
   ],
   "source": [
    "res_more40 = df[df['Restaurants']>40]['Rank']\n",
    "res_less40 =  df[df['Restaurants']<=40]['Rank']\n",
    "print(\"Two-sided t-test on average rank of hotels with near by restaurants more than 40\\n\",stats.ttest_ind(res_more40, res_less40, equal_var=False))\n",
    "      "
   ]
  },
  {
   "cell_type": "code",
   "execution_count": 16,
   "metadata": {},
   "outputs": [
    {
     "name": "stdout",
     "output_type": "stream",
     "text": [
      "One-sided t-test on average rank of hotels with near by restaurants more than 40\n",
      " Ttest_indResult(statistic=-6.871753967349365, pvalue=0.9999999999957256)\n"
     ]
    }
   ],
   "source": [
    "print(\"One-sided t-test on average rank of hotels with near by restaurants more than 40\\n\",stats.ttest_ind(res_more40, res_less40, equal_var=False, alternative='greater'))\n"
   ]
  },
  {
   "cell_type": "markdown",
   "metadata": {},
   "source": [
    "## Attractions T-test"
   ]
  },
  {
   "cell_type": "code",
   "execution_count": 17,
   "metadata": {},
   "outputs": [
    {
     "data": {
      "text/plain": [
       "<matplotlib.axes._subplots.AxesSubplot at 0x1862fa81040>"
      ]
     },
     "execution_count": 17,
     "metadata": {},
     "output_type": "execute_result"
    },
    {
     "data": {
      "image/png": "[encoded data removed]",
      "text/plain": [
       "<Figure size 432x288 with 1 Axes>"
      ]
     },
     "metadata": {
      "needs_background": "light"
     },
     "output_type": "display_data"
    }
   ],
   "source": [
    "df['Attractions'].plot.box()"
   ]
  },
  {
   "cell_type": "code",
   "execution_count": 18,
   "metadata": {},
   "outputs": [
    {
     "data": {
      "text/plain": [
       "0.50    11.0\n",
       "0.75    26.0\n",
       "Name: Attractions, dtype: float64"
      ]
     },
     "execution_count": 18,
     "metadata": {},
     "output_type": "execute_result"
    }
   ],
   "source": [
    "df['Attractions'].quantile([0.5, 0.75])"
   ]
  },
  {
   "cell_type": "code",
   "execution_count": 19,
   "metadata": {},
   "outputs": [
    {
     "name": "stdout",
     "output_type": "stream",
     "text": [
      "Two-sided t-test on average rank of hotels with near by attractions more than 11\n",
      " Ttest_indResult(statistic=-1.0891240692467286, pvalue=0.27623700139806384)\n"
     ]
    }
   ],
   "source": [
    "att_more11 = df[df['Attractions']>11]['Rank']\n",
    "att_less11 =  df[df['Attractions']<=11]['Rank']\n",
    "print(\"Two-sided t-test on average rank of hotels with near by attractions more than 11\\n\",stats.ttest_ind(att_more11, att_less11, equal_var=False))\n"
   ]
  },
  {
   "cell_type": "markdown",
   "metadata": {},
   "source": [
    " New upcoming hotels need not spend a fortune paying for a premiere locations that are near multiple attractions"
   ]
  },
  {
   "cell_type": "markdown",
   "metadata": {},
   "source": [
    "## T-test on Offers, Rating, Website and ImageCount"
   ]
  },
  {
   "cell_type": "code",
   "execution_count": 20,
   "metadata": {},
   "outputs": [
    {
     "name": "stdout",
     "output_type": "stream",
     "text": [
      "Two-sided t-test on average rating of hotels with and without offers listed\n",
      " Ttest_indResult(statistic=31.861546833726916, pvalue=6.736410947065943e-155)\n"
     ]
    }
   ],
   "source": [
    "offer_df = df[df['Offers']==0]['Rank']\n",
    "no_offer_df =  df[df['Offers']==1]['Rank']\n",
    "\n",
    "print('Two-sided t-test on average rating of hotels with and without offers listed\\n', stats.ttest_ind(offer_df, no_offer_df, equal_var=False))\n"
   ]
  },
  {
   "cell_type": "code",
   "execution_count": 21,
   "metadata": {},
   "outputs": [
    {
     "name": "stdout",
     "output_type": "stream",
     "text": [
      "Two-sided t-test on average number of reviews for high and low rated hotels offers listed\n",
      " Ttest_indResult(statistic=7.1304583023557635, pvalue=5.931662011174665e-12)\n"
     ]
    }
   ],
   "source": [
    "toprating_df = df[df['Rating']>=4]['Reviews']\n",
    "lowrating_df =  df[df['Rating']<4]['Reviews']\n",
    "print('Two-sided t-test on average number of reviews for high and low rated hotels offers listed\\n', stats.ttest_ind(toprating_df, lowrating_df, equal_var=False))\n"
   ]
  },
  {
   "cell_type": "code",
   "execution_count": 22,
   "metadata": {},
   "outputs": [
    {
     "name": "stdout",
     "output_type": "stream",
     "text": [
      "Two-sided t-test on average rating of hotels with and without website listed\n",
      " Ttest_indResult(statistic=-36.2911404112795, pvalue=9.091036801840072e-233)\n",
      "One-sided t-test on average rating of hotels with and without website listed\n",
      " Ttest_indResult(statistic=-36.2911404112795, pvalue=1.0)\n"
     ]
    }
   ],
   "source": [
    "has_website = df.loc[df['Website'] == 1,'Rank']\n",
    "no_website = df.loc[df['Website'] == 0, 'Rank']\n",
    "print('Two-sided t-test on average rating of hotels with and without website listed\\n', stats.ttest_ind(has_website, no_website, equal_var=False))\n",
    "print('One-sided t-test on average rating of hotels with and without website listed\\n', stats.ttest_ind(has_website, no_website, equal_var=False, alternative='greater'))\n"
   ]
  },
  {
   "cell_type": "code",
   "execution_count": 23,
   "metadata": {},
   "outputs": [
    {
     "name": "stdout",
     "output_type": "stream",
     "text": [
      "Two-sided t-test on average rating of hotels with and without more than 109 images\n",
      " Ttest_indResult(statistic=46.14095769998473, pvalue=0.0)\n",
      "One-sided t-test on average rating of hotels with and without more than 109 images\n",
      " Ttest_indResult(statistic=46.14095769998473, pvalue=0.0)\n"
     ]
    }
   ],
   "source": [
    "high_img = df.loc[df['ImageCount'] <=109,'Rank']\n",
    "low_img = df.loc[df['ImageCount'] >109, 'Rank']\n",
    "print('Two-sided t-test on average rating of hotels with and without more than 109 images\\n', stats.ttest_ind(high_img, low_img, equal_var=False))\n",
    "print('One-sided t-test on average rating of hotels with and without more than 109 images\\n', stats.ttest_ind(high_img, low_img, equal_var=False, alternative='greater'))\n"
   ]
  },
  {
   "cell_type": "code",
   "execution_count": 24,
   "metadata": {},
   "outputs": [],
   "source": [
    "df = df.reset_index().dropna().set_index('index')"
   ]
  },
  {
   "cell_type": "markdown",
   "metadata": {},
   "source": [
    "## Correlation matrix to remove redundant variables"
   ]
  },
  {
   "cell_type": "code",
   "execution_count": 25,
   "metadata": {
    "scrolled": false
   },
   "outputs": [
    {
     "data": {
      "image/png": "[encoded data removed]",
      "text/plain": [
       "<Figure size 864x576 with 2 Axes>"
      ]
     },
     "metadata": {
      "needs_background": "light"
     },
     "output_type": "display_data"
    }
   ],
   "source": [
    "plt.figure(figsize=(12,8))\n",
    "sns.heatmap(df.corr(), annot=True)\n",
    "plt.show()"
   ]
  },
  {
   "cell_type": "markdown",
   "metadata": {},
   "source": [
    "#### High correlation between Restaurants and Attractions--- Dropping Restaurants from linear regression model"
   ]
  },
  {
   "cell_type": "code",
   "execution_count": 26,
   "metadata": {},
   "outputs": [
    {
     "data": {
      "text/plain": [
       "<matplotlib.axes._subplots.AxesSubplot at 0x186329d0400>"
      ]
     },
     "execution_count": 26,
     "metadata": {},
     "output_type": "execute_result"
    },
    {
     "data": {
      "image/png": "[encoded data removed]",
      "text/plain": [
       "<Figure size 432x288 with 1 Axes>"
      ]
     },
     "metadata": {
      "needs_background": "light"
     },
     "output_type": "display_data"
    }
   ],
   "source": [
    "sns.scatterplot(df.Restaurants,df.Attractions)"
   ]
  },
  {
   "cell_type": "markdown",
   "metadata": {},
   "source": [
    "## Linear Regression"
   ]
  },
  {
   "cell_type": "code",
   "execution_count": 27,
   "metadata": {},
   "outputs": [],
   "source": [
    "X = df[['Rating', 'Reviews', 'Class', 'Website', 'Covid','Location', 'DescLength','Walkscore','Attractions', 'Offers', 'NonSmokingRoom']].copy()\n",
    "\n",
    "X = pd.get_dummies(X, drop_first=True)\n",
    "y = df.loc[:, ['Rank']]"
   ]
  },
  {
   "cell_type": "code",
   "execution_count": 28,
   "metadata": {},
   "outputs": [
    {
     "name": "stdout",
     "output_type": "stream",
     "text": [
      "0.43844686123672216\n",
      "[[-7.29023663e+02 -5.71073549e-02  2.08734090e+01  1.08412469e-01\n",
      "  -1.31955781e+00  1.66661593e-02 -3.51155967e+01 -3.25648405e+02\n",
      "  -1.38194000e+02 -1.39457236e+02 -1.76354820e+02 -1.22391851e+02\n",
      "  -1.60390491e+02 -1.18015747e+01 -1.89124281e+02 -1.24256161e-12\n",
      "  -2.86772551e+01 -1.54883785e+02 -1.36000756e+01]]\n",
      "[4219.28124086]\n"
     ]
    }
   ],
   "source": [
    "reg = LinearRegression().fit(X, y)\n",
    "print(reg.score(X, y))\n",
    "print(reg.coef_)\n",
    "print(reg.intercept_)\n",
    "\n",
    "coef_dict = {}\n",
    "for coef, feat in zip(reg.coef_.tolist()[0],X.columns):\n",
    "    coef_dict[feat] = coef"
   ]
  },
  {
   "cell_type": "code",
   "execution_count": 29,
   "metadata": {},
   "outputs": [
    {
     "data": {
      "text/html": [
       "<table class=\"simpletable\">\n",
       "<caption>OLS Regression Results</caption>\n",
       "<tr>\n",
       "  <th>Dep. Variable:</th>          <td>Rank</td>       <th>  R-squared (uncentered):</th>      <td>   0.811</td> \n",
       "</tr>\n",
       "<tr>\n",
       "  <th>Model:</th>                   <td>OLS</td>       <th>  Adj. R-squared (uncentered):</th> <td>   0.808</td> \n",
       "</tr>\n",
       "<tr>\n",
       "  <th>Method:</th>             <td>Least Squares</td>  <th>  F-statistic:       </th>          <td>   238.4</td> \n",
       "</tr>\n",
       "<tr>\n",
       "  <th>Date:</th>             <td>Tue, 07 Dec 2021</td> <th>  Prob (F-statistic):</th>           <td>  0.00</td>  \n",
       "</tr>\n",
       "<tr>\n",
       "  <th>Time:</th>                 <td>02:45:38</td>     <th>  Log-Likelihood:    </th>          <td> -7394.5</td> \n",
       "</tr>\n",
       "<tr>\n",
       "  <th>No. Observations:</th>      <td>  1016</td>      <th>  AIC:               </th>          <td>1.482e+04</td>\n",
       "</tr>\n",
       "<tr>\n",
       "  <th>Df Residuals:</th>          <td>   998</td>      <th>  BIC:               </th>          <td>1.491e+04</td>\n",
       "</tr>\n",
       "<tr>\n",
       "  <th>Df Model:</th>              <td>    18</td>      <th>                     </th>              <td> </td>    \n",
       "</tr>\n",
       "<tr>\n",
       "  <th>Covariance Type:</th>      <td>nonrobust</td>    <th>                     </th>              <td> </td>    \n",
       "</tr>\n",
       "</table>\n",
       "<table class=\"simpletable\">\n",
       "<tr>\n",
       "         <td></td>           <th>coef</th>     <th>std err</th>      <th>t</th>      <th>P>|t|</th>  <th>[0.025</th>    <th>0.975]</th>  \n",
       "</tr>\n",
       "<tr>\n",
       "  <th>Rating</th>         <td> -571.0912</td> <td>   36.570</td> <td>  -15.616</td> <td> 0.000</td> <td> -642.855</td> <td> -499.328</td>\n",
       "</tr>\n",
       "<tr>\n",
       "  <th>Reviews</th>        <td>   -0.0576</td> <td>    0.010</td> <td>   -5.567</td> <td> 0.000</td> <td>   -0.078</td> <td>   -0.037</td>\n",
       "</tr>\n",
       "<tr>\n",
       "  <th>Location</th>       <td>  210.2930</td> <td>   39.097</td> <td>    5.379</td> <td> 0.000</td> <td>  133.570</td> <td>  287.016</td>\n",
       "</tr>\n",
       "<tr>\n",
       "  <th>DescLength</th>     <td>    0.3800</td> <td>    0.159</td> <td>    2.390</td> <td> 0.017</td> <td>    0.068</td> <td>    0.692</td>\n",
       "</tr>\n",
       "<tr>\n",
       "  <th>Walkscore</th>      <td>   -0.4475</td> <td>    0.591</td> <td>   -0.757</td> <td> 0.449</td> <td>   -1.607</td> <td>    0.712</td>\n",
       "</tr>\n",
       "<tr>\n",
       "  <th>Attractions</th>    <td>   -0.1173</td> <td>    0.249</td> <td>   -0.471</td> <td> 0.637</td> <td>   -0.606</td> <td>    0.371</td>\n",
       "</tr>\n",
       "<tr>\n",
       "  <th>NonSmokingRoom</th> <td> 1395.5738</td> <td>  147.312</td> <td>    9.474</td> <td> 0.000</td> <td> 1106.497</td> <td> 1684.650</td>\n",
       "</tr>\n",
       "<tr>\n",
       "  <th>Class_1.5</th>      <td>  940.9198</td> <td>  242.839</td> <td>    3.875</td> <td> 0.000</td> <td>  464.386</td> <td> 1417.454</td>\n",
       "</tr>\n",
       "<tr>\n",
       "  <th>Class_2.0</th>      <td> 1045.5860</td> <td>  137.760</td> <td>    7.590</td> <td> 0.000</td> <td>  775.253</td> <td> 1315.919</td>\n",
       "</tr>\n",
       "<tr>\n",
       "  <th>Class_2.5</th>      <td>  985.8999</td> <td>  146.786</td> <td>    6.717</td> <td> 0.000</td> <td>  697.855</td> <td> 1273.945</td>\n",
       "</tr>\n",
       "<tr>\n",
       "  <th>Class_3.0</th>      <td>  938.6044</td> <td>  140.179</td> <td>    6.696</td> <td> 0.000</td> <td>  663.524</td> <td> 1213.684</td>\n",
       "</tr>\n",
       "<tr>\n",
       "  <th>Class_3.5</th>      <td>  986.3905</td> <td>  145.768</td> <td>    6.767</td> <td> 0.000</td> <td>  700.343</td> <td> 1272.438</td>\n",
       "</tr>\n",
       "<tr>\n",
       "  <th>Class_4.0</th>      <td>  959.8475</td> <td>  141.762</td> <td>    6.771</td> <td> 0.000</td> <td>  681.662</td> <td> 1238.033</td>\n",
       "</tr>\n",
       "<tr>\n",
       "  <th>Class_4.5</th>      <td> 1046.5897</td> <td>  204.141</td> <td>    5.127</td> <td> 0.000</td> <td>  645.995</td> <td> 1447.184</td>\n",
       "</tr>\n",
       "<tr>\n",
       "  <th>Class_5.0</th>      <td>  875.4818</td> <td>  156.923</td> <td>    5.579</td> <td> 0.000</td> <td>  567.545</td> <td> 1183.418</td>\n",
       "</tr>\n",
       "<tr>\n",
       "  <th>Class_NA</th>       <td> 1.982e-13</td> <td> 2.82e-14</td> <td>    7.036</td> <td> 0.000</td> <td> 1.43e-13</td> <td> 2.53e-13</td>\n",
       "</tr>\n",
       "<tr>\n",
       "  <th>Website_1</th>      <td>  -26.2442</td> <td>   29.066</td> <td>   -0.903</td> <td> 0.367</td> <td>  -83.281</td> <td>   30.793</td>\n",
       "</tr>\n",
       "<tr>\n",
       "  <th>Covid_1</th>        <td> -141.9898</td> <td>   25.626</td> <td>   -5.541</td> <td> 0.000</td> <td> -192.277</td> <td>  -91.702</td>\n",
       "</tr>\n",
       "<tr>\n",
       "  <th>Offers_1</th>       <td>    6.2439</td> <td>   30.631</td> <td>    0.204</td> <td> 0.839</td> <td>  -53.864</td> <td>   66.352</td>\n",
       "</tr>\n",
       "</table>\n",
       "<table class=\"simpletable\">\n",
       "<tr>\n",
       "  <th>Omnibus:</th>       <td>55.863</td> <th>  Durbin-Watson:     </th> <td>   0.620</td>\n",
       "</tr>\n",
       "<tr>\n",
       "  <th>Prob(Omnibus):</th> <td> 0.000</td> <th>  Jarque-Bera (JB):  </th> <td>  95.323</td>\n",
       "</tr>\n",
       "<tr>\n",
       "  <th>Skew:</th>          <td> 0.412</td> <th>  Prob(JB):          </th> <td>2.00e-21</td>\n",
       "</tr>\n",
       "<tr>\n",
       "  <th>Kurtosis:</th>      <td> 4.254</td> <th>  Cond. No.          </th> <td>3.13e+20</td>\n",
       "</tr>\n",
       "</table><br/><br/>Warnings:<br/>[1] Standard Errors assume that the covariance matrix of the errors is correctly specified.<br/>[2] The smallest eigenvalue is 2.74e-32. This might indicate that there are<br/>strong multicollinearity problems or that the design matrix is singular."
      ],
      "text/plain": [
       "<class 'statsmodels.iolib.summary.Summary'>\n",
       "\"\"\"\n",
       "                                 OLS Regression Results                                \n",
       "=======================================================================================\n",
       "Dep. Variable:                   Rank   R-squared (uncentered):                   0.811\n",
       "Model:                            OLS   Adj. R-squared (uncentered):              0.808\n",
       "Method:                 Least Squares   F-statistic:                              238.4\n",
       "Date:                Tue, 07 Dec 2021   Prob (F-statistic):                        0.00\n",
       "Time:                        02:45:38   Log-Likelihood:                         -7394.5\n",
       "No. Observations:                1016   AIC:                                  1.482e+04\n",
       "Df Residuals:                     998   BIC:                                  1.491e+04\n",
       "Df Model:                          18                                                  \n",
       "Covariance Type:            nonrobust                                                  \n",
       "==================================================================================\n",
       "                     coef    std err          t      P>|t|      [0.025      0.975]\n",
       "----------------------------------------------------------------------------------\n",
       "Rating          -571.0912     36.570    -15.616      0.000    -642.855    -499.328\n",
       "Reviews           -0.0576      0.010     -5.567      0.000      -0.078      -0.037\n",
       "Location         210.2930     39.097      5.379      0.000     133.570     287.016\n",
       "DescLength         0.3800      0.159      2.390      0.017       0.068       0.692\n",
       "Walkscore         -0.4475      0.591     -0.757      0.449      -1.607       0.712\n",
       "Attractions       -0.1173      0.249     -0.471      0.637      -0.606       0.371\n",
       "NonSmokingRoom  1395.5738    147.312      9.474      0.000    1106.497    1684.650\n",
       "Class_1.5        940.9198    242.839      3.875      0.000     464.386    1417.454\n",
       "Class_2.0       1045.5860    137.760      7.590      0.000     775.253    1315.919\n",
       "Class_2.5        985.8999    146.786      6.717      0.000     697.855    1273.945\n",
       "Class_3.0        938.6044    140.179      6.696      0.000     663.524    1213.684\n",
       "Class_3.5        986.3905    145.768      6.767      0.000     700.343    1272.438\n",
       "Class_4.0        959.8475    141.762      6.771      0.000     681.662    1238.033\n",
       "Class_4.5       1046.5897    204.141      5.127      0.000     645.995    1447.184\n",
       "Class_5.0        875.4818    156.923      5.579      0.000     567.545    1183.418\n",
       "Class_NA        1.982e-13   2.82e-14      7.036      0.000    1.43e-13    2.53e-13\n",
       "Website_1        -26.2442     29.066     -0.903      0.367     -83.281      30.793\n",
       "Covid_1         -141.9898     25.626     -5.541      0.000    -192.277     -91.702\n",
       "Offers_1           6.2439     30.631      0.204      0.839     -53.864      66.352\n",
       "==============================================================================\n",
       "Omnibus:                       55.863   Durbin-Watson:                   0.620\n",
       "Prob(Omnibus):                  0.000   Jarque-Bera (JB):               95.323\n",
       "Skew:                           0.412   Prob(JB):                     2.00e-21\n",
       "Kurtosis:                       4.254   Cond. No.                     3.13e+20\n",
       "==============================================================================\n",
       "\n",
       "Warnings:\n",
       "[1] Standard Errors assume that the covariance matrix of the errors is correctly specified.\n",
       "[2] The smallest eigenvalue is 2.74e-32. This might indicate that there are\n",
       "strong multicollinearity problems or that the design matrix is singular.\n",
       "\"\"\""
      ]
     },
     "execution_count": 29,
     "metadata": {},
     "output_type": "execute_result"
    }
   ],
   "source": [
    "OLS(y,X).fit().summary()"
   ]
  },
  {
   "cell_type": "markdown",
   "metadata": {},
   "source": [
    "## Reviews Dataset"
   ]
  },
  {
   "cell_type": "code",
   "execution_count": 32,
   "metadata": {},
   "outputs": [],
   "source": [
    "r1 = pd.read_csv('hamptoninnreviews.csv')\n",
    "r2 = pd.read_csv('howardjohnsonreviews.csv')\n",
    "r3 = pd.read_csv('hollywoodhotelreviews.csv')\n",
    "r4 = pd.read_csv('montereyplazareviews.csv')\n",
    "r5 = pd.read_csv('hollywoodrooseveltreviews.csv')\n",
    "r6 = pd.read_csv('shorecliffeviews.csv')\n",
    "r7 = pd.read_csv('hotelcorquereviews.csv')\n",
    "r8 = pd.read_csv('shorehotelreviews.csv')\n",
    "r9 = pd.read_csv('hotelemblumreviews.csv')\n",
    "r10 = pd.read_csv('theanaheimreviews.csv')"
   ]
  },
  {
   "cell_type": "code",
   "execution_count": 33,
   "metadata": {},
   "outputs": [],
   "source": [
    "reviews= r1.append(r2).append(r3).append(r4).append(r5).append(r6).append(r7).append(r8).append(r9).append(r10)"
   ]
  },
  {
   "cell_type": "code",
   "execution_count": 34,
   "metadata": {},
   "outputs": [
    {
     "data": {
      "text/plain": [
       "username             24904\n",
       "contributions        24905\n",
       "location             14013\n",
       "staydate             24785\n",
       "triptype             24785\n",
       "reviewdate           24905\n",
       "overallrating        24905\n",
       "revtitle             24904\n",
       "reviewtext           24905\n",
       "roomtip               4709\n",
       "value                13136\n",
       "service              17030\n",
       "sleepquality         11894\n",
       "locationrev          12874\n",
       "rooms                12807\n",
       "cleanliness          13336\n",
       "responder            16323\n",
       "responderposition    16363\n",
       "responsedate         16364\n",
       "response             16364\n",
       "helpful              24905\n",
       "dtype: int64"
      ]
     },
     "execution_count": 34,
     "metadata": {},
     "output_type": "execute_result"
    }
   ],
   "source": [
    "reviews.count()"
   ]
  },
  {
   "cell_type": "code",
   "execution_count": 35,
   "metadata": {
    "scrolled": true
   },
   "outputs": [
    {
     "data": {
      "text/html": [
       "<div>\n",
       "<style scoped>\n",
       "    .dataframe tbody tr th:only-of-type {\n",
       "        vertical-align: middle;\n",
       "    }\n",
       "\n",
       "    .dataframe tbody tr th {\n",
       "        vertical-align: top;\n",
       "    }\n",
       "\n",
       "    .dataframe thead th {\n",
       "        text-align: right;\n",
       "    }\n",
       "</style>\n",
       "<table border=\"1\" class=\"dataframe\">\n",
       "  <thead>\n",
       "    <tr style=\"text-align: right;\">\n",
       "      <th></th>\n",
       "      <th>username</th>\n",
       "      <th>contributions</th>\n",
       "      <th>location</th>\n",
       "      <th>staydate</th>\n",
       "      <th>triptype</th>\n",
       "      <th>reviewdate</th>\n",
       "      <th>overallrating</th>\n",
       "      <th>revtitle</th>\n",
       "      <th>reviewtext</th>\n",
       "      <th>roomtip</th>\n",
       "      <th>...</th>\n",
       "      <th>service</th>\n",
       "      <th>sleepquality</th>\n",
       "      <th>locationrev</th>\n",
       "      <th>rooms</th>\n",
       "      <th>cleanliness</th>\n",
       "      <th>responder</th>\n",
       "      <th>responderposition</th>\n",
       "      <th>responsedate</th>\n",
       "      <th>response</th>\n",
       "      <th>helpful</th>\n",
       "    </tr>\n",
       "  </thead>\n",
       "  <tbody>\n",
       "    <tr>\n",
       "      <th>0</th>\n",
       "      <td>Christian Patri... A</td>\n",
       "      <td>1</td>\n",
       "      <td>NaN</td>\n",
       "      <td>2021-11-30</td>\n",
       "      <td>FAMILY</td>\n",
       "      <td>2021-11-30</td>\n",
       "      <td>5</td>\n",
       "      <td>Convenient location, clean facilities, friendl...</td>\n",
       "      <td>Place was convenient for our needs and staff w...</td>\n",
       "      <td>Adrian at the front desk was very helpful and ...</td>\n",
       "      <td>...</td>\n",
       "      <td>NaN</td>\n",
       "      <td>NaN</td>\n",
       "      <td>NaN</td>\n",
       "      <td>NaN</td>\n",
       "      <td>NaN</td>\n",
       "      <td>NaN</td>\n",
       "      <td>NaN</td>\n",
       "      <td>NaN</td>\n",
       "      <td>NaN</td>\n",
       "      <td>0</td>\n",
       "    </tr>\n",
       "    <tr>\n",
       "      <th>1</th>\n",
       "      <td>CDWAS</td>\n",
       "      <td>29</td>\n",
       "      <td>Louisiana</td>\n",
       "      <td>2021-07-31</td>\n",
       "      <td>FAMILY</td>\n",
       "      <td>2021-07-22</td>\n",
       "      <td>5</td>\n",
       "      <td>Good Stay But Breakfast Could Be Better</td>\n",
       "      <td>My family and I recently spent 3 nights at thi...</td>\n",
       "      <td>NaN</td>\n",
       "      <td>...</td>\n",
       "      <td>NaN</td>\n",
       "      <td>NaN</td>\n",
       "      <td>NaN</td>\n",
       "      <td>NaN</td>\n",
       "      <td>NaN</td>\n",
       "      <td>Brenna Simpson</td>\n",
       "      <td>Guest Services / Front Office</td>\n",
       "      <td>2021-07-27</td>\n",
       "      <td>Thank you for taking the time to leave a revie...</td>\n",
       "      <td>11</td>\n",
       "    </tr>\n",
       "    <tr>\n",
       "      <th>2</th>\n",
       "      <td>llatakayama</td>\n",
       "      <td>1</td>\n",
       "      <td>Mililani, Hawaii</td>\n",
       "      <td>2021-11-30</td>\n",
       "      <td>NONE</td>\n",
       "      <td>2021-11-29</td>\n",
       "      <td>4</td>\n",
       "      <td>Great location to the Toy Story shuttle</td>\n",
       "      <td>Clean large rooms.  Bunk beds were great.  Fam...</td>\n",
       "      <td>NaN</td>\n",
       "      <td>...</td>\n",
       "      <td>4.0</td>\n",
       "      <td>4.0</td>\n",
       "      <td>5.0</td>\n",
       "      <td>5.0</td>\n",
       "      <td>4.0</td>\n",
       "      <td>NaN</td>\n",
       "      <td>NaN</td>\n",
       "      <td>NaN</td>\n",
       "      <td>NaN</td>\n",
       "      <td>0</td>\n",
       "    </tr>\n",
       "    <tr>\n",
       "      <th>3</th>\n",
       "      <td>Redhead84</td>\n",
       "      <td>2</td>\n",
       "      <td>NaN</td>\n",
       "      <td>2021-11-30</td>\n",
       "      <td>COUPLES</td>\n",
       "      <td>2021-11-26</td>\n",
       "      <td>5</td>\n",
       "      <td>Great Service</td>\n",
       "      <td>We had a great experience checking in. Adrian ...</td>\n",
       "      <td>NaN</td>\n",
       "      <td>...</td>\n",
       "      <td>NaN</td>\n",
       "      <td>NaN</td>\n",
       "      <td>NaN</td>\n",
       "      <td>NaN</td>\n",
       "      <td>NaN</td>\n",
       "      <td>NaN</td>\n",
       "      <td>NaN</td>\n",
       "      <td>NaN</td>\n",
       "      <td>NaN</td>\n",
       "      <td>0</td>\n",
       "    </tr>\n",
       "    <tr>\n",
       "      <th>4</th>\n",
       "      <td>Joe L</td>\n",
       "      <td>1</td>\n",
       "      <td>Oakland, California</td>\n",
       "      <td>2021-11-30</td>\n",
       "      <td>FAMILY</td>\n",
       "      <td>2021-11-26</td>\n",
       "      <td>5</td>\n",
       "      <td>Adrian you rock!!</td>\n",
       "      <td>Upon arriving to the facility, the lobby was v...</td>\n",
       "      <td>Talk to front desk agent Adrian. Very helpful ...</td>\n",
       "      <td>...</td>\n",
       "      <td>NaN</td>\n",
       "      <td>NaN</td>\n",
       "      <td>NaN</td>\n",
       "      <td>NaN</td>\n",
       "      <td>NaN</td>\n",
       "      <td>NaN</td>\n",
       "      <td>NaN</td>\n",
       "      <td>NaN</td>\n",
       "      <td>NaN</td>\n",
       "      <td>0</td>\n",
       "    </tr>\n",
       "    <tr>\n",
       "      <th>...</th>\n",
       "      <td>...</td>\n",
       "      <td>...</td>\n",
       "      <td>...</td>\n",
       "      <td>...</td>\n",
       "      <td>...</td>\n",
       "      <td>...</td>\n",
       "      <td>...</td>\n",
       "      <td>...</td>\n",
       "      <td>...</td>\n",
       "      <td>...</td>\n",
       "      <td>...</td>\n",
       "      <td>...</td>\n",
       "      <td>...</td>\n",
       "      <td>...</td>\n",
       "      <td>...</td>\n",
       "      <td>...</td>\n",
       "      <td>...</td>\n",
       "      <td>...</td>\n",
       "      <td>...</td>\n",
       "      <td>...</td>\n",
       "      <td>...</td>\n",
       "    </tr>\n",
       "    <tr>\n",
       "      <th>680</th>\n",
       "      <td>Catalina</td>\n",
       "      <td>1</td>\n",
       "      <td>NaN</td>\n",
       "      <td>2021-12-31</td>\n",
       "      <td>FAMILY</td>\n",
       "      <td>2021-12-02</td>\n",
       "      <td>5</td>\n",
       "      <td>Very friendly staff</td>\n",
       "      <td>Anaheim Hotel is a classic. All the staff were...</td>\n",
       "      <td>NaN</td>\n",
       "      <td>...</td>\n",
       "      <td>NaN</td>\n",
       "      <td>NaN</td>\n",
       "      <td>NaN</td>\n",
       "      <td>NaN</td>\n",
       "      <td>NaN</td>\n",
       "      <td>Candi Crowe</td>\n",
       "      <td>Guest Services / Front Office</td>\n",
       "      <td>2021-12-04</td>\n",
       "      <td>Hello Catalina,\\n\\nWe thank you for taking the...</td>\n",
       "      <td>0</td>\n",
       "    </tr>\n",
       "    <tr>\n",
       "      <th>681</th>\n",
       "      <td>Cindy M</td>\n",
       "      <td>6</td>\n",
       "      <td>NaN</td>\n",
       "      <td>2020-02-29</td>\n",
       "      <td>NONE</td>\n",
       "      <td>2020-02-23</td>\n",
       "      <td>5</td>\n",
       "      <td>Back at the Anaheim Hotel</td>\n",
       "      <td>This is such a great property!  The staff of T...</td>\n",
       "      <td>NaN</td>\n",
       "      <td>...</td>\n",
       "      <td>5.0</td>\n",
       "      <td>NaN</td>\n",
       "      <td>NaN</td>\n",
       "      <td>NaN</td>\n",
       "      <td>5.0</td>\n",
       "      <td>Robert Flores</td>\n",
       "      <td>Guest Services / Front Office</td>\n",
       "      <td>2020-02-23</td>\n",
       "      <td>Dear Cindy M,\\n\\nThank you for your feedback.W...</td>\n",
       "      <td>13</td>\n",
       "    </tr>\n",
       "    <tr>\n",
       "      <th>682</th>\n",
       "      <td>Darcell B</td>\n",
       "      <td>1</td>\n",
       "      <td>NaN</td>\n",
       "      <td>2021-11-30</td>\n",
       "      <td>FAMILY</td>\n",
       "      <td>2021-12-02</td>\n",
       "      <td>5</td>\n",
       "      <td>Disneyland vacation</td>\n",
       "      <td>Rented a scooter and needed help and the hotel...</td>\n",
       "      <td>NaN</td>\n",
       "      <td>...</td>\n",
       "      <td>NaN</td>\n",
       "      <td>NaN</td>\n",
       "      <td>NaN</td>\n",
       "      <td>NaN</td>\n",
       "      <td>NaN</td>\n",
       "      <td>Candi Crowe</td>\n",
       "      <td>Guest Services / Front Office</td>\n",
       "      <td>2021-12-04</td>\n",
       "      <td>Hello Darcell,\\n\\nWe thank you for taking the ...</td>\n",
       "      <td>0</td>\n",
       "    </tr>\n",
       "    <tr>\n",
       "      <th>683</th>\n",
       "      <td>Desiree J</td>\n",
       "      <td>1</td>\n",
       "      <td>NaN</td>\n",
       "      <td>2021-11-30</td>\n",
       "      <td>FAMILY</td>\n",
       "      <td>2021-11-29</td>\n",
       "      <td>5</td>\n",
       "      <td>Leo is a saint</td>\n",
       "      <td>Leo was so sweet and caring . He spotted my da...</td>\n",
       "      <td>NaN</td>\n",
       "      <td>...</td>\n",
       "      <td>NaN</td>\n",
       "      <td>NaN</td>\n",
       "      <td>NaN</td>\n",
       "      <td>NaN</td>\n",
       "      <td>NaN</td>\n",
       "      <td>Candi Crowe</td>\n",
       "      <td>Guest Services / Front Office</td>\n",
       "      <td>2021-11-30</td>\n",
       "      <td>Hello Desiree,\\n\\nWe thank you for taking the ...</td>\n",
       "      <td>0</td>\n",
       "    </tr>\n",
       "    <tr>\n",
       "      <th>684</th>\n",
       "      <td>Gregory L</td>\n",
       "      <td>1</td>\n",
       "      <td>NaN</td>\n",
       "      <td>2021-11-30</td>\n",
       "      <td>NONE</td>\n",
       "      <td>2021-11-21</td>\n",
       "      <td>5</td>\n",
       "      <td>Excellent Place To Stay !</td>\n",
       "      <td>THE BEST Place To Stay When Visiting The Mouse...</td>\n",
       "      <td>All Rooms Are GREAT ! -- You Will Not Be Unhappy.</td>\n",
       "      <td>...</td>\n",
       "      <td>5.0</td>\n",
       "      <td>NaN</td>\n",
       "      <td>5.0</td>\n",
       "      <td>NaN</td>\n",
       "      <td>5.0</td>\n",
       "      <td>Candi Crowe</td>\n",
       "      <td>Guest Services / Front Office</td>\n",
       "      <td>2021-11-22</td>\n",
       "      <td>Hello Gregory,\\n\\nWe thank you for taking the ...</td>\n",
       "      <td>0</td>\n",
       "    </tr>\n",
       "  </tbody>\n",
       "</table>\n",
       "<p>24905 rows × 21 columns</p>\n",
       "</div>"
      ],
      "text/plain": [
       "                 username  contributions             location    staydate  \\\n",
       "0    Christian Patri... A              1                  NaN  2021-11-30   \n",
       "1                   CDWAS             29            Louisiana  2021-07-31   \n",
       "2             llatakayama              1     Mililani, Hawaii  2021-11-30   \n",
       "3               Redhead84              2                  NaN  2021-11-30   \n",
       "4                   Joe L              1  Oakland, California  2021-11-30   \n",
       "..                    ...            ...                  ...         ...   \n",
       "680              Catalina              1                  NaN  2021-12-31   \n",
       "681               Cindy M              6                  NaN  2020-02-29   \n",
       "682             Darcell B              1                  NaN  2021-11-30   \n",
       "683             Desiree J              1                  NaN  2021-11-30   \n",
       "684             Gregory L              1                  NaN  2021-11-30   \n",
       "\n",
       "    triptype  reviewdate  overallrating  \\\n",
       "0     FAMILY  2021-11-30              5   \n",
       "1     FAMILY  2021-07-22              5   \n",
       "2       NONE  2021-11-29              4   \n",
       "3    COUPLES  2021-11-26              5   \n",
       "4     FAMILY  2021-11-26              5   \n",
       "..       ...         ...            ...   \n",
       "680   FAMILY  2021-12-02              5   \n",
       "681     NONE  2020-02-23              5   \n",
       "682   FAMILY  2021-12-02              5   \n",
       "683   FAMILY  2021-11-29              5   \n",
       "684     NONE  2021-11-21              5   \n",
       "\n",
       "                                              revtitle  \\\n",
       "0    Convenient location, clean facilities, friendl...   \n",
       "1              Good Stay But Breakfast Could Be Better   \n",
       "2              Great location to the Toy Story shuttle   \n",
       "3                                        Great Service   \n",
       "4                                    Adrian you rock!!   \n",
       "..                                                 ...   \n",
       "680                                Very friendly staff   \n",
       "681                          Back at the Anaheim Hotel   \n",
       "682                                Disneyland vacation   \n",
       "683                                     Leo is a saint   \n",
       "684                          Excellent Place To Stay !   \n",
       "\n",
       "                                            reviewtext  \\\n",
       "0    Place was convenient for our needs and staff w...   \n",
       "1    My family and I recently spent 3 nights at thi...   \n",
       "2    Clean large rooms.  Bunk beds were great.  Fam...   \n",
       "3    We had a great experience checking in. Adrian ...   \n",
       "4    Upon arriving to the facility, the lobby was v...   \n",
       "..                                                 ...   \n",
       "680  Anaheim Hotel is a classic. All the staff were...   \n",
       "681  This is such a great property!  The staff of T...   \n",
       "682  Rented a scooter and needed help and the hotel...   \n",
       "683  Leo was so sweet and caring . He spotted my da...   \n",
       "684  THE BEST Place To Stay When Visiting The Mouse...   \n",
       "\n",
       "                                               roomtip  ...  service  \\\n",
       "0    Adrian at the front desk was very helpful and ...  ...      NaN   \n",
       "1                                                  NaN  ...      NaN   \n",
       "2                                                  NaN  ...      4.0   \n",
       "3                                                  NaN  ...      NaN   \n",
       "4    Talk to front desk agent Adrian. Very helpful ...  ...      NaN   \n",
       "..                                                 ...  ...      ...   \n",
       "680                                                NaN  ...      NaN   \n",
       "681                                                NaN  ...      5.0   \n",
       "682                                                NaN  ...      NaN   \n",
       "683                                                NaN  ...      NaN   \n",
       "684  All Rooms Are GREAT ! -- You Will Not Be Unhappy.  ...      5.0   \n",
       "\n",
       "     sleepquality  locationrev  rooms  cleanliness       responder  \\\n",
       "0             NaN          NaN    NaN          NaN             NaN   \n",
       "1             NaN          NaN    NaN          NaN  Brenna Simpson   \n",
       "2             4.0          5.0    5.0          4.0             NaN   \n",
       "3             NaN          NaN    NaN          NaN             NaN   \n",
       "4             NaN          NaN    NaN          NaN             NaN   \n",
       "..            ...          ...    ...          ...             ...   \n",
       "680           NaN          NaN    NaN          NaN     Candi Crowe   \n",
       "681           NaN          NaN    NaN          5.0   Robert Flores   \n",
       "682           NaN          NaN    NaN          NaN     Candi Crowe   \n",
       "683           NaN          NaN    NaN          NaN     Candi Crowe   \n",
       "684           NaN          5.0    NaN          5.0     Candi Crowe   \n",
       "\n",
       "                 responderposition responsedate  \\\n",
       "0                              NaN          NaN   \n",
       "1    Guest Services / Front Office   2021-07-27   \n",
       "2                              NaN          NaN   \n",
       "3                              NaN          NaN   \n",
       "4                              NaN          NaN   \n",
       "..                             ...          ...   \n",
       "680  Guest Services / Front Office   2021-12-04   \n",
       "681  Guest Services / Front Office   2020-02-23   \n",
       "682  Guest Services / Front Office   2021-12-04   \n",
       "683  Guest Services / Front Office   2021-11-30   \n",
       "684  Guest Services / Front Office   2021-11-22   \n",
       "\n",
       "                                              response helpful  \n",
       "0                                                  NaN       0  \n",
       "1    Thank you for taking the time to leave a revie...      11  \n",
       "2                                                  NaN       0  \n",
       "3                                                  NaN       0  \n",
       "4                                                  NaN       0  \n",
       "..                                                 ...     ...  \n",
       "680  Hello Catalina,\\n\\nWe thank you for taking the...       0  \n",
       "681  Dear Cindy M,\\n\\nThank you for your feedback.W...      13  \n",
       "682  Hello Darcell,\\n\\nWe thank you for taking the ...       0  \n",
       "683  Hello Desiree,\\n\\nWe thank you for taking the ...       0  \n",
       "684  Hello Gregory,\\n\\nWe thank you for taking the ...       0  \n",
       "\n",
       "[24905 rows x 21 columns]"
      ]
     },
     "execution_count": 35,
     "metadata": {},
     "output_type": "execute_result"
    }
   ],
   "source": [
    "reviews"
   ]
  },
  {
   "cell_type": "markdown",
   "metadata": {},
   "source": [
    "## Sentiment Analysis"
   ]
  },
  {
   "cell_type": "code",
   "execution_count": 36,
   "metadata": {},
   "outputs": [],
   "source": [
    "def calculate_polarity(dataset, value, negvalue):\n",
    "    textdf = dataset.copy()\n",
    "    textdf['Polarity'] = textdf['review'].map(lambda text: TextBlob(text).sentiment.polarity)\n",
    "    textdf['Polarity_Type'] = 0\n",
    "    for i in range(len(textdf)):\n",
    "        if (textdf.loc[i, 'Polarity'] >= value):\n",
    "            textdf.loc[i, 'Polarity_Type'] = 'Positive'\n",
    "        elif (textdf.loc[i, 'Polarity'] <= negvalue):\n",
    "            textdf.loc[i, 'Polarity_Type'] = 'Negative'\n",
    "        elif (textdf.loc[i, 'Polarity'] > negvalue and textdf.loc[i, 'Polarity'] < value):\n",
    "            textdf.loc[i, 'Polarity_Type'] = 'Neutral'\n",
    "    textdf['Feedback_len'] = textdf['review'].astype(str).apply(len)\n",
    "    textdf['Word_count'] = textdf['review'].map(lambda x: len(str(x).split()))\n",
    "    return textdf"
   ]
  },
  {
   "cell_type": "markdown",
   "metadata": {},
   "source": [
    "## Sentiment Analysis for Location California/Not California"
   ]
  },
  {
   "cell_type": "code",
   "execution_count": 37,
   "metadata": {},
   "outputs": [],
   "source": [
    "reviews['CA']=0 \n",
    "reviews['CA'] = pd.np.where(reviews.location.str.contains(\"Cali\"), 1,0)\n",
    "reviews_not_null_location= reviews[reviews['location'].notnull()]"
   ]
  },
  {
   "cell_type": "code",
   "execution_count": 38,
   "metadata": {},
   "outputs": [],
   "source": [
    "reviews_cali=reviews_not_null_location[(reviews_not_null_location['CA']==1)]\n",
    "reviews_non_cali=reviews_not_null_location[(reviews_not_null_location['CA']==0)]"
   ]
  },
  {
   "cell_type": "code",
   "execution_count": 39,
   "metadata": {},
   "outputs": [],
   "source": [
    "#Tokenize each review in the collection\n",
    "c_cali=[]\n",
    "for i,r in reviews_cali.iterrows():\n",
    "    i = nltk.word_tokenize(r['reviewtext'])\n",
    "    c_cali.append(i)\n",
    "\n",
    "#Use the tokenized reviews after step 1, lemmatize all the words, convert in lowercase\n",
    "\n",
    "lemmatizer_cali = nltk.stem.WordNetLemmatizer()\n",
    "lemmatizedc_cali = []\n",
    "for document in c_cali:\n",
    "    lemmatized_token_cali = [lemmatizer_cali.lemmatize(token).lower() for token in document if token.isalpha()]\n",
    "    lemmatizedc_cali.append(lemmatized_token_cali)\n",
    "# print(lemmatizedc_holiday)\n",
    "\n",
    "#Based on the output in step 2, remove all the stop-words and the punctuations\n",
    "stop_words_removed_c_cali=[]\n",
    "from nltk.corpus import stopwords\n",
    "for lemmatized_document_cali in lemmatizedc_cali:\n",
    "    stop_words_removed = [token for token in lemmatized_document_cali if not token in stopwords.words('english') if token.isalpha()]\n",
    "    stop_words_removed_c_cali.append(stop_words_removed)\n",
    "# print(stop_words_removed_c_holiday)\n",
    "\n",
    "list_afterstopwords_cali = []\n",
    "for words in stop_words_removed_c_cali:\n",
    "        list_afterstopwords_cali.append(\" \".join(words))\n",
    "        "
   ]
  },
  {
   "cell_type": "code",
   "execution_count": 40,
   "metadata": {},
   "outputs": [],
   "source": [
    "#Tokenize each review in the collection\n",
    "c_non_cali=[]\n",
    "for i,r in reviews_non_cali.iterrows():\n",
    "    i = nltk.word_tokenize(r['reviewtext'])\n",
    "    c_non_cali.append(i)\n",
    "\n",
    "#Use the tokenized reviews after step 1, lemmatize all the words, convert in lowercase\n",
    "\n",
    "lemmatizer_non_cali = nltk.stem.WordNetLemmatizer()\n",
    "lemmatizedc_non_cali = []\n",
    "for document in c_non_cali:\n",
    "    lemmatized_token_non_cali = [lemmatizer_non_cali.lemmatize(token).lower() for token in document if token.isalpha()]\n",
    "    lemmatizedc_non_cali.append(lemmatized_token_non_cali)\n",
    "# print(lemmatizedc_holiday)\n",
    "\n",
    "#Based on the output in step 2, remove all the stop-words and the punctuations\n",
    "stop_words_removed_c_non_cali=[]\n",
    "from nltk.corpus import stopwords\n",
    "for lemmatized_document_non_cali in lemmatizedc_non_cali:\n",
    "    stop_words_removed = [token for token in lemmatized_document_non_cali if not token in stopwords.words('english') if token.isalpha()]\n",
    "    stop_words_removed_c_non_cali.append(stop_words_removed)\n",
    "# print(stop_words_removed_c_holiday)\n",
    "\n",
    "list_afterstopwords_non_cali = []\n",
    "for words in stop_words_removed_c_non_cali:\n",
    "        list_afterstopwords_non_cali.append(\" \".join(words))\n",
    "        "
   ]
  },
  {
   "cell_type": "code",
   "execution_count": 41,
   "metadata": {},
   "outputs": [
    {
     "data": {
      "text/plain": [
       "Polarity_Type\n",
       "Negative     838\n",
       "Neutral     2182\n",
       "Positive    2066\n",
       "Name: review, dtype: int64"
      ]
     },
     "execution_count": 41,
     "metadata": {},
     "output_type": "execute_result"
    }
   ],
   "source": [
    "cali = pd.DataFrame(list_afterstopwords_cali, columns=['review'])\n",
    "cali_polar= calculate_polarity(cali,0.4,0.2)\n",
    "cali_polar_values=cali_polar.groupby([\"Polarity_Type\"]).review.count()\n",
    "cali_polar_values"
   ]
  },
  {
   "cell_type": "code",
   "execution_count": 42,
   "metadata": {},
   "outputs": [
    {
     "data": {
      "text/plain": [
       "Polarity_Type\n",
       "Negative    1716\n",
       "Neutral     4139\n",
       "Positive    3072\n",
       "Name: review, dtype: int64"
      ]
     },
     "execution_count": 42,
     "metadata": {},
     "output_type": "execute_result"
    }
   ],
   "source": [
    "non_cali = pd.DataFrame(list_afterstopwords_non_cali, columns=['review'])\n",
    "non_cali_polar= calculate_polarity(non_cali,0.4,0.2)\n",
    "non_cali_polar_values=non_cali_polar.groupby([\"Polarity_Type\"]).review.count()\n",
    "non_cali_polar_values"
   ]
  },
  {
   "cell_type": "markdown",
   "metadata": {},
   "source": [
    "## Z Test on % Negative Sentiments (California/Non California)"
   ]
  },
  {
   "cell_type": "code",
   "execution_count": 43,
   "metadata": {},
   "outputs": [
    {
     "name": "stdout",
     "output_type": "stream",
     "text": [
      "z_stat: -4.049, p_value: 0.000\n",
      "Reject the null hypothesis - suggest the alternative hypothesis is true\n"
     ]
    }
   ],
   "source": [
    "significance = 0.025\n",
    "\n",
    "sample_success_a, sample_size_a = (cali_polar_values[0], len(reviews_cali.index))\n",
    "sample_success_b, sample_size_b = (non_cali_polar_values[0], len(reviews_non_cali.index))\n",
    "\n",
    "successes = np.array([sample_success_a, sample_success_b])\n",
    "samples = np.array([sample_size_a, sample_size_b])\n",
    "\n",
    "stat, p_value = proportions_ztest(count=successes, nobs=samples,  alternative='two-sided')\n",
    "\n",
    "print('z_stat: %0.3f, p_value: %0.3f' % (stat, p_value))\n",
    "\n",
    "if p_value > significance:\n",
    "    print (\"Fail to reject the null hypothesis\")\n",
    "else:\n",
    "    print (\"Reject the null hypothesis - suggest the alternative hypothesis is true\")"
   ]
  },
  {
   "cell_type": "markdown",
   "metadata": {},
   "source": [
    "#### Single sided T-test"
   ]
  },
  {
   "cell_type": "code",
   "execution_count": 44,
   "metadata": {},
   "outputs": [
    {
     "name": "stdout",
     "output_type": "stream",
     "text": [
      "z_stat: -4.049, p_value: 0.000\n",
      "Reject the null hypothesis - suggest the alternative hypothesis is true\n"
     ]
    }
   ],
   "source": [
    "stat, p_value = proportions_ztest(count=successes, nobs=samples,  alternative='smaller')\n",
    "print('z_stat: %0.3f, p_value: %0.3f' % (stat, p_value))\n",
    "if p_value > 0.05:\n",
    "    print (\"Fail to reject the null hypothesis\")\n",
    "else:\n",
    "    print (\"Reject the null hypothesis - suggest the alternative hypothesis is true\")"
   ]
  },
  {
   "cell_type": "markdown",
   "metadata": {},
   "source": [
    "#### Travelers from California have a significantly less negative sentiment towards Californian hotels than travelers from other locations"
   ]
  },
  {
   "cell_type": "code",
   "execution_count": null,
   "metadata": {},
   "outputs": [],
   "source": []
  },
  {
   "cell_type": "markdown",
   "metadata": {},
   "source": [
    "## Analyzing TripType-- Business "
   ]
  },
  {
   "cell_type": "code",
   "execution_count": 45,
   "metadata": {},
   "outputs": [
    {
     "data": {
      "text/plain": [
       "array(['FAMILY', 'NONE', 'COUPLES', 'SOLO', 'FRIENDS', 'BUSINESS', nan],\n",
       "      dtype=object)"
      ]
     },
     "execution_count": 45,
     "metadata": {},
     "output_type": "execute_result"
    }
   ],
   "source": [
    "reviews.triptype.unique()"
   ]
  },
  {
   "cell_type": "code",
   "execution_count": 46,
   "metadata": {},
   "outputs": [],
   "source": [
    "business=reviews[(reviews['triptype']=='BUSINESS')]"
   ]
  },
  {
   "cell_type": "code",
   "execution_count": 51,
   "metadata": {},
   "outputs": [
    {
     "data": {
      "text/plain": [
       "array([<matplotlib.axes._subplots.AxesSubplot object at 0x0000018632BE4FA0>],\n",
       "      dtype=object)"
      ]
     },
     "execution_count": 51,
     "metadata": {},
     "output_type": "execute_result"
    },
    {
     "data": {
      "image/png": "[encoded data removed]",
      "text/plain": [
       "<Figure size 720x360 with 1 Axes>"
      ]
     },
     "metadata": {},
     "output_type": "display_data"
    }
   ],
   "source": [
    "business=business.groupby(by=\"overallrating\")\n",
    "business[[\"username\"]].count().plot(kind='pie', subplots=True, shadow = True,startangle=90, title = 'Business Customer Ratings',\n",
    "figsize=(10,5), autopct='%.2f%%')"
   ]
  },
  {
   "cell_type": "code",
   "execution_count": 52,
   "metadata": {},
   "outputs": [],
   "source": [
    "business=reviews[(reviews['triptype']=='BUSINESS')]\n",
    "business_location= business[business['location'].notnull()].copy()"
   ]
  },
  {
   "cell_type": "code",
   "execution_count": 53,
   "metadata": {},
   "outputs": [
    {
     "name": "stdout",
     "output_type": "stream",
     "text": [
      "Business trips by people in california:  507\n",
      "Business trips by people out of california:  868\n",
      "California 4/5 rating 457\n",
      "Non California 4/5 rating 734\n"
     ]
    }
   ],
   "source": [
    "business_location['CA']=0 \n",
    "business_location['CA'] = pd.np.where(business_location.location.str.contains(\"Cali\"), 1,0)\n",
    "\n",
    "business_cali=business_location[(business_location['CA']==1)]\n",
    "business_non_cali=business_location[(business_location['CA']==0)]\n",
    "\n",
    "print('Business trips by people in california: ',len(business_cali.index))\n",
    "print('Business trips by people out of california: ',len(business_non_cali.index))\n",
    "\n",
    "business_cali_goodrating=business_cali[(business_cali['overallrating']>=4)]\n",
    "business_non_cali_goodrating=business_non_cali[(business_non_cali['overallrating']>=4)]\n",
    "\n",
    "print('California 4/5 rating',len(business_cali_goodrating.index))\n",
    "print('Non California 4/5 rating',len(business_non_cali_goodrating.index))"
   ]
  },
  {
   "cell_type": "markdown",
   "metadata": {},
   "source": [
    "## Z Test on Business Trips for Californians/ Non-Californians who gave 4 & 5 star rating"
   ]
  },
  {
   "cell_type": "code",
   "execution_count": 54,
   "metadata": {},
   "outputs": [
    {
     "name": "stdout",
     "output_type": "stream",
     "text": [
      "z_stat: 2.930, p_value: 0.003\n",
      "Reject the null hypothesis - suggest the alternative hypothesis is true\n"
     ]
    }
   ],
   "source": [
    "significance = 0.025\n",
    "\n",
    "sample_success_a, sample_size_a = (len(business_cali_goodrating.index), len(business_cali.index))\n",
    "sample_success_b, sample_size_b = (len(business_non_cali_goodrating.index), len(business_non_cali.index))\n",
    "\n",
    "successes = np.array([sample_success_a, sample_success_b])\n",
    "samples = np.array([sample_size_a, sample_size_b])\n",
    "\n",
    "stat, p_value = proportions_ztest(count=successes, nobs=samples,  alternative='two-sided')\n",
    "\n",
    "print('z_stat: %0.3f, p_value: %0.3f' % (stat, p_value))\n",
    "\n",
    "if p_value > significance:\n",
    "    print (\"Fail to reject the null hypothesis\")\n",
    "else:\n",
    "    print (\"Reject the null hypothesis - suggest the alternative hypothesis is true\")"
   ]
  },
  {
   "cell_type": "markdown",
   "metadata": {},
   "source": [
    "## Single sided Z Test"
   ]
  },
  {
   "cell_type": "code",
   "execution_count": 55,
   "metadata": {},
   "outputs": [
    {
     "name": "stdout",
     "output_type": "stream",
     "text": [
      "z_stat: 2.930, p_value: 0.002\n",
      "Reject the null hypothesis - suggest the alternative hypothesis is true\n"
     ]
    }
   ],
   "source": [
    "stat, p_value = proportions_ztest(count=successes, nobs=samples,  alternative='larger')\n",
    "print('z_stat: %0.3f, p_value: %0.3f' % (stat, p_value))\n",
    "if p_value > 0.05:\n",
    "    print (\"Fail to reject the null hypothesis\")\n",
    "else:\n",
    "    print (\"Reject the null hypothesis - suggest the alternative hypothesis is true\")"
   ]
  },
  {
   "cell_type": "markdown",
   "metadata": {},
   "source": [
    "#### Focusing on business travelers from other locations can help mitigate this lower % of 4 and 5 ratings "
   ]
  },
  {
   "cell_type": "markdown",
   "metadata": {},
   "source": [
    "## Topic Modelling for Hotel Description on Trip Advisor"
   ]
  },
  {
   "cell_type": "code",
   "execution_count": 57,
   "metadata": {},
   "outputs": [
    {
     "name": "stdout",
     "output_type": "stream",
     "text": [
      "Topic: 0 \n",
      "Words: 0.018*\"hotel\" + 0.010*\"san\" + 0.009*\"beach\" + 0.008*\"guest\" + 0.008*\"diego\" + 0.007*\"room\" + 0.006*\"located\" + 0.005*\"california\" + 0.005*\"inn\" + 0.005*\"offer\"\n",
      "Topic: 1 \n",
      "Words: 0.019*\"hotel\" + 0.010*\"room\" + 0.008*\"san\" + 0.007*\"beach\" + 0.007*\"center\" + 0.006*\"guest\" + 0.006*\"located\" + 0.006*\"offer\" + 0.006*\"service\" + 0.005*\"los\"\n",
      "Topic: 2 \n",
      "Words: 0.017*\"hotel\" + 0.010*\"san\" + 0.008*\"beach\" + 0.008*\"room\" + 0.007*\"offer\" + 0.007*\"inn\" + 0.006*\"guest\" + 0.006*\"complimentary\" + 0.006*\"located\" + 0.006*\"restaurant\"\n",
      "Topic: 3 \n",
      "Words: 0.021*\"hotel\" + 0.013*\"room\" + 0.010*\"guest\" + 0.009*\"pool\" + 0.009*\"beach\" + 0.007*\"free\" + 0.006*\"breakfast\" + 0.006*\"inn\" + 0.006*\"santa\" + 0.005*\"center\"\n"
     ]
    }
   ],
   "source": [
    "#Tokenize each description in the collection\n",
    "c=[]\n",
    "z=1\n",
    "for i,r in df.iterrows():\n",
    "    if z < 101:\n",
    "        i = nltk.word_tokenize(r['Description'])\n",
    "        c.append(i)\n",
    "        z=z+1\n",
    "    else:\n",
    "        break\n",
    "\n",
    "#Use the tokenized description after step 1, lemmatize all the words, convert in lowercase\n",
    "\n",
    "lemmatizer = nltk.stem.WordNetLemmatizer()\n",
    "lemmatizedc = []\n",
    "for document in c:\n",
    "    lemmatized_token = [lemmatizer.lemmatize(token).lower() for token in document if token.isalpha()]\n",
    "    lemmatizedc.append(lemmatized_token)\n",
    "\n",
    "#Based on the output in step 2, remove all the stop-words and the punctuations\n",
    "stop_words_removed_c=[]\n",
    "for lemmatized_document in lemmatizedc:\n",
    "    stop_words_removed = [token for token in lemmatized_document if not token in stopwords.words('english') if token.isalpha()]\n",
    "    stop_words_removed_c.append(stop_words_removed)\n",
    "\n",
    "# Based on the output in step 3, convert each of the reviews in a Term document matrix.\n",
    "# The minimal document frequency for each term is 5. Also, including 2-grams.\n",
    "\n",
    "list_afterstopwords = []\n",
    "for words in stop_words_removed_c:\n",
    "        list_afterstopwords.append(\" \".join(words))\n",
    "\n",
    "vectorizer1 = CountVectorizer(ngram_range=(1, 2), min_df=5)\n",
    "X2 = vectorizer1.fit_transform(list_afterstopwords)\n",
    "terms = vectorizer1.get_feature_names()\n",
    "\n",
    "# Found the top-10 terms (terms with the top-5 highest weights) for each of the 4 topics\n",
    "dictionary = gensim.corpora.Dictionary(stop_words_removed_c)\n",
    "bow_c4 = [dictionary.doc2bow(doc) for doc in stop_words_removed_c]\n",
    "lda_model = gensim.models.LdaModel(bow_c4, num_topics=4, id2word=dictionary)\n",
    "for idx, topic in lda_model.print_topics(num_words=10):\n",
    "    print('Topic: {} \\nWords: {}'.format(idx, topic))\n"
   ]
  },
  {
   "cell_type": "markdown",
   "metadata": {},
   "source": [
    "#### The top 100 hotel descriptions have been categorized into 4 different topics using topic modeling. Based on the top terms in each topic, we can say that travelers prefer hotels with restaurants, pool and beach nearby"
   ]
  },
  {
   "cell_type": "code",
   "execution_count": null,
   "metadata": {},
   "outputs": [],
   "source": []
  }
 ],
 "metadata": {
  "kernelspec": {
   "display_name": "Python 3",
   "language": "python",
   "name": "python3"
  },
  "language_info": {
   "codemirror_mode": {
    "name": "ipython",
    "version": 3
   },
   "file_extension": ".py",
   "mimetype": "text/x-python",
   "name": "python",
   "nbconvert_exporter": "python",
   "pygments_lexer": "ipython3",
   "version": "3.8.3"
  }
 },
 "nbformat": 4,
 "nbformat_minor": 4
}
